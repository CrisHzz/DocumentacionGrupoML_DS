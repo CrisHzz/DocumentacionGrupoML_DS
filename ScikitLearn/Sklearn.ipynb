{
 "cells": [
  {
   "cell_type": "markdown",
   "metadata": {},
   "source": [
    "# Unidad 2 Scikit-learn para la creación de modelos de machine learning\n"
   ]
  },
  {
   "cell_type": "markdown",
   "metadata": {},
   "source": [
    "*Ya entendimos y vimos las librerías básicas para la ciencia de datos y el machine learning en Python, estos serán los juguetes para poder seguir avanzando, alimentar los datos y procesarlos para su respectivo uso.*\n",
    "\n",
    "*Ahora vamos a ver la parte más interesante de este grupo-curso, crear modelos, probarlos y sobre todo encontrar soluciones a los problemas que la vida nos propone*"
   ]
  },
  {
   "cell_type": "markdown",
   "metadata": {},
   "source": [
    "## Sklearn\n",
    "\n",
    "Esta es una librería enfocada en todo lo relacionado con los datos y el machine learning, podemos desde normalizar y estandarizar datos hasta la creación de modelos de `clasificacion` y `regresion`, e incluso `redes neuronales`. , por algo lo digo esta es la parte más entretenida.\n",
    "\n",
    "Recordad que Google collab ya tiene incluido Sklearn,; sin embargo, si no estas ahí puedes usar\n",
    "\n",
    "`pip install scikit-learn`"
   ]
  },
  {
   "cell_type": "markdown",
   "metadata": {},
   "source": [
    "`No existe` una importacion comun como \n",
    "\n",
    "**import scikit-learn as sk**\n",
    "\n",
    "debemos de importar directamente lo que necesitemos , pero esto lo veremos mas adelante"
   ]
  }
 ],
 "metadata": {
  "language_info": {
   "name": "python"
  }
 },
 "nbformat": 4,
 "nbformat_minor": 2
}
