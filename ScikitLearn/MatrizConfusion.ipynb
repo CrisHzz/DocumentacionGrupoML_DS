{
 "cells": [
  {
   "cell_type": "markdown",
   "metadata": {},
   "source": [
    "# Matriz de Confusión \n",
    "\n",
    "La matriz de confusión es una herramienta fundamental en la evaluación de modelos de clasificación en el aprendizaje automático. Proporciona una representación tabular del rendimiento de un modelo al predecir las clases verdaderas y las clases predichas.\n",
    "\n",
    "## Descripción\n",
    "\n",
    "- **Filas:** Representan las clases reales (o clases verdaderas).\n",
    "- **Columnas:** Representan las clases predichas por el modelo.\n",
    "- **Celdas:** Contienen el recuento de muestras que pertenecen a la combinación de clase real y clase predicha.\n",
    "\n",
    "La matriz de confusión ayuda a entender la calidad de la predicción de un modelo, mostrando cómo se clasifican las muestras en términos de verdaderos positivos (TP), verdaderos negativos (TN), falsos positivos (FP) y falsos negativos (FN).\n",
    "\n",
    "### Elementos de la Matriz de Confusión\n",
    "\n",
    "- **Verdaderos Positivos (TP):** Muestras que fueron clasificadas correctamente como positivas.\n",
    "- **Verdaderos Negativos (TN):** Muestras que fueron clasificadas correctamente como negativas.\n",
    "- **Falsos Positivos (FP):** Muestras que fueron clasificadas incorrectamente como positivas cuando en realidad son negativas (error de tipo I).\n",
    "- **Falsos Negativos (FN):** Muestras que fueron clasificadas incorrectamente como negativas cuando en realidad son positivas (error de tipo II).\n",
    "\n",
    "## Uso\n",
    "\n",
    "La matriz de confusión es útil para calcular diversas métricas de evaluación del modelo, como precisión, sensibilidad (recall), especificidad, valor F1, etc. Estas métricas ayudan a comprender cómo se desempeña el modelo en la clasificación de diferentes clases y pueden utilizarse para ajustar el modelo o comparar diferentes modelos.\n",
    "\n",
    "## Ejemplo\n",
    "\n",
    "Supongamos que tenemos un problema de clasificación binaria con dos clases: \"Positivo\" y \"Negativo\". Una matriz de confusión podría verse así:\n",
    "\n",
    "|                | Predicción Positiva | Predicción Negativa |\n",
    "|----------------|---------------------|---------------------|\n",
    "| Clase Positiva | 100 (TP)            | 20 (FN)             |\n",
    "| Clase Negativa | 10 (FP)             | 500 (TN)            |\n",
    "\n",
    "En este ejemplo:\n",
    "- Hay 100 verdaderos positivos (TP), 20 falsos negativos (FN), 10 falsos positivos (FP) y 500 verdaderos negativos (TN).\n",
    "- La precisión, la sensibilidad, la especificidad y otras métricas pueden calcularse a partir de estos valores para evaluar el rendimiento del modelo.\n",
    "\n",
    "La matriz de confusión proporciona una visión detallada del rendimiento del modelo de clasificación y es una herramienta valiosa en la evaluación y mejora de modelos de aprendizaje automático.\n",
    "\n",
    "# Métricas de Evaluación de Modelos de Clasificación\n",
    "\n",
    "En el contexto de la evaluación de modelos de clasificación, hay varias métricas comunes que se utilizan para medir el rendimiento del modelo. Estas métricas proporcionan información valiosa sobre la calidad de las predicciones realizadas por el modelo.\n",
    "\n",
    "# Accuracy (Exactitud de los positivos EN TODOS )\n",
    "\n",
    " La exactitud es una medida de la fracción de predicciones correctas realizadas por el modelo. Se calcula dividiendo el número de predicciones correctas (verdaderos positivos más verdaderos negativos) entre el número total de predicciones realizadas (verdaderos positivos, verdaderos negativos, falsos positivo)\n",
    "\n",
    " La exactitud es una medida global que indica qué tan bien el modelo clasifica correctamente las instancias, sin importar la clase a la que pertenecen.\n",
    "\n",
    " TOTAL DE PREDICCIONES EN COMPARACION DE LAS POSITIVAS\n",
    "\n",
    "- Mide la proporción de predicciones correctas realizadas por el modelo sobre el total de predicciones.\n",
    "- Varía entre 0 y 1, donde 1 indica una exactitud perfecta y 0 indica una exactitud nula.\n",
    "- Una exactitud más alta indica que el modelo está haciendo un buen trabajo en general al predecir las etiquetas correctas.\n",
    "\n",
    "\n",
    "\n",
    "## Precision (Precisión con el modelo )\n",
    "\n",
    "La precision (precisión) es la proporción de verdaderos positivos entre todas las predicciones positivas realizadas por el modelo.\n",
    "\n",
    "Se calcula como la relación entre los verdaderos positivos (TP) y la suma de los verdaderos positivos y los falsos positivos (FP).\n",
    "\n",
    "La precisión se centra en la calidad de las predicciones positivas del modelo. Indica qué tan preciso es el modelo cuando predice que una instancia pertenece a una clase específica.\n",
    "\n",
    "\n",
    "CALIDAD DE LA PRECISION \n",
    "\n",
    "- Mide la proporción de positivos identificados por el modelo que fueron realmente positivos.\n",
    "- Varía entre 0 y 1, donde 1 indica una precisión perfecta y 0 indica una precisión nula.\n",
    "- Una precisión más alta indica que el modelo está haciendo un mejor trabajo al evitar falsos positivos.\n",
    "\n",
    "Usado para minimizar los falsos positivos\n",
    "\n",
    "\n",
    "\n",
    "## Recall (Proporcion de positivos )\n",
    "\n",
    "El recall (sensibilidad) mide la proporción de verdaderos positivos correctamente identificados por el modelo entre todos los verdaderos positivos en el conjunto de datos.\n",
    "\n",
    "Se calcula como la relación entre los verdaderos positivos (TP) y la suma de los verdaderos positivos y los falsos negativos (FN).\n",
    "\n",
    "Cuantos se pudo intenficar con el modelo\n",
    "\n",
    "\n",
    "- Mide la proporción de positivos reales que fueron correctamente identificados por el modelo.\n",
    "- Varía entre 0 y 1, donde 1 indica un recall perfecto y 0 indica un recall nulo.\n",
    "- Un recall más alto indica que el modelo está identificando la mayoría de los positivos reales.\n",
    "\n",
    "Usado para minimizar los falsos negativos\n",
    "\n",
    "\n",
    "## F1-score (Rendimiento 0 ---> 1)\n",
    "\n",
    "El F1-score es una medida que combina la precision y el recall en un solo valor, proporcionando una medida única del rendimiento del modelo.\n",
    "\n",
    "Se calcula como la media armónica de la precision y el recall, lo que le da más peso a las clases que tienen un menor recuento de muestras.\n",
    "\n",
    "Su rango es entre 0 a 1 siendo 0 muy malo y 1 muy bueno\n",
    "\n",
    "Combina los 2 anteriores\n",
    "\n"
   ]
  },
  {
   "cell_type": "markdown",
   "metadata": {},
   "source": [
    "![MConfusion](../Media/MatrizConfusionDatos.png)"
   ]
  },
  {
   "cell_type": "markdown",
   "metadata": {},
   "source": [
    "## `NOTA: El proposito de este tema no es tanto su implementacion pues eso se vera mas adelante, la clave es entender como funciona esta evaluacion de un modelo`"
   ]
  },
  {
   "cell_type": "markdown",
   "metadata": {},
   "source": [
    "## ENTENDIENDO SIEMPRE QUE X SON LOS DATOS Y Y SON LAS ETIQUETAS"
   ]
  },
  {
   "cell_type": "markdown",
   "metadata": {},
   "source": [
    "# Un ejemplo de matriz de confusion con clasificacion binaria usando el data set de make moons"
   ]
  },
  {
   "cell_type": "code",
   "execution_count": 114,
   "metadata": {},
   "outputs": [],
   "source": [
    "import matplotlib.pyplot as plt\n",
    "\n",
    "from sklearn.datasets import make_moons #Aqui estamos importando un dataset incluido en sklearn, como si fuera uno de pandas\n",
    "\n",
    "from sklearn.model_selection import train_test_split #Esta es una herramienta que mas adelante veremos\n",
    "\n",
    "from sklearn.neural_network import MLPClassifier #Otra herramienta que veremos\n",
    "\n",
    "from sklearn.metrics import (accuracy_score,confusion_matrix,precision_score,recall_score,f1_score,classification_report) #Aqui estan las metricas que vimos arriba\n",
    "\n",
    "x , y =make_moons(300) #Datos balanceados"
   ]
  },
  {
   "cell_type": "markdown",
   "metadata": {},
   "source": [
    "`make_moons` es una función proporcionada por la biblioteca scikit-learn (`sklearn`) que se utiliza para generar un conjunto de datos de ejemplo para la clasificación binaria. Crea un conjunto de datos sintéticos en forma de dos semicírculos que se superponen.\n",
    "\n",
    "Esta función es útil para propósitos de demostración, pruebas y ejemplos de algoritmos de aprendizaje automático, especialmente aquellos diseñados para problemas de clasificación binaria y no lineales.\n",
    "\n",
    "Para utilizar `make_moons`, simplemente importas la función desde `sklearn.datasets` y la invocas, especificando el número de muestras (`n_samples`), el nivel de ruido (`noise`), y opcionalmente, una semilla aleatoria (`random_state`) para reproducibilidad.\n",
    "\n"
   ]
  },
  {
   "cell_type": "code",
   "execution_count": 115,
   "metadata": {},
   "outputs": [
    {
     "data": {
      "text/plain": [
       "array([0, 1, 1, 1, 1, 0, 1, 0, 0, 0, 0, 1, 1, 0, 0, 0, 1, 0, 1, 1, 1, 1,\n",
       "       0, 0, 0, 1, 0, 1, 0, 0, 0, 0, 1, 0, 1, 0, 0, 0, 1, 0, 0, 0, 1, 0,\n",
       "       0, 1, 1, 1, 0, 1, 0, 0, 0, 0, 1, 1, 0, 0, 0, 0, 1, 0, 0, 1, 0, 0,\n",
       "       1, 0, 0, 1, 0, 0, 1, 1, 0, 0, 0, 1, 1, 1, 1, 0, 0, 0, 0, 1, 1, 1,\n",
       "       0, 1, 1, 1, 1, 0, 0, 1, 1, 1, 1, 1, 0, 1, 0, 0, 0, 1, 1, 1, 0, 1,\n",
       "       0, 0, 0, 1, 0, 0, 0, 0, 0, 1, 0, 1, 0, 0, 0, 0, 1, 0, 1, 1, 0, 0,\n",
       "       1, 1, 1, 1, 0, 1, 1, 1, 1, 0, 1, 1, 0, 1, 1, 1, 0, 1, 0, 0, 1, 1,\n",
       "       0, 1, 0, 1, 0, 1, 1, 1, 0, 0, 0, 1, 1, 0, 0, 1, 1, 0, 1, 0, 1, 0,\n",
       "       0, 1, 1, 1, 0, 1, 0, 1, 1, 1, 0, 0, 0, 1, 1, 1, 1, 0, 1, 0, 1, 0,\n",
       "       0, 1, 0, 0, 0, 1, 1, 1, 0, 1, 1, 0, 1, 0, 0, 1, 1, 0, 1, 0, 1, 1,\n",
       "       0, 1, 0, 1, 1, 1, 1, 0, 0, 0, 1, 1, 0, 0, 1, 1, 0, 0, 0, 1, 1, 0,\n",
       "       0, 1, 1, 1, 0, 0, 0, 1, 0, 1, 0, 1, 1, 1, 0, 0, 0, 0, 1, 0, 1, 0,\n",
       "       0, 1, 0, 1, 1, 0, 0, 1, 1, 1, 0, 0, 1, 1, 0, 1, 0, 1, 1, 0, 0, 1,\n",
       "       0, 0, 0, 1, 1, 1, 1, 0, 0, 1, 0, 1, 1, 1], dtype=int64)"
      ]
     },
     "execution_count": 115,
     "metadata": {},
     "output_type": "execute_result"
    }
   ],
   "source": [
    "y"
   ]
  },
  {
   "cell_type": "code",
   "execution_count": 116,
   "metadata": {},
   "outputs": [
    {
     "data": {
      "image/png": "[encoded data removed]",
      "text/plain": [
       "<Figure size 640x480 with 1 Axes>"
      ]
     },
     "metadata": {},
     "output_type": "display_data"
    }
   ],
   "source": [
    "colors=[\"salmon\",\"gold\",\"mediumturquoise\",\"indigo\"]\n",
    "\n",
    "plt.scatter(x[:,0],x[:,1],c=y)\n",
    "\n",
    "plt.grid()\n",
    "\n",
    "plt.show()\n"
   ]
  },
  {
   "cell_type": "code",
   "execution_count": 117,
   "metadata": {},
   "outputs": [],
   "source": [
    "#Creamos las variables para poder crear nuestra red neuronal\n",
    "\n",
    "x_train , x_test , y_train ,y_test=train_test_split(x,y)\n"
   ]
  },
  {
   "cell_type": "code",
   "execution_count": 118,
   "metadata": {},
   "outputs": [],
   "source": [
    "#Creamos los modelos\n",
    "\n",
    "clf=MLPClassifier()"
   ]
  },
  {
   "cell_type": "code",
   "execution_count": 119,
   "metadata": {},
   "outputs": [
    {
     "name": "stderr",
     "output_type": "stream",
     "text": [
      "C:\\Users\\Cristian\\AppData\\Roaming\\Python\\Python311\\site-packages\\sklearn\\neural_network\\_multilayer_perceptron.py:691: ConvergenceWarning: Stochastic Optimizer: Maximum iterations (200) reached and the optimization hasn't converged yet.\n",
      "  warnings.warn(\n"
     ]
    },
    {
     "data": {
      "text/html": [
       "<style>#sk-container-id-10 {color: black;}#sk-container-id-10 pre{padding: 0;}#sk-container-id-10 div.sk-toggleable {background-color: white;}#sk-container-id-10 label.sk-toggleable__label {cursor: pointer;display: block;width: 100%;margin-bottom: 0;padding: 0.3em;box-sizing: border-box;text-align: center;}#sk-container-id-10 label.sk-toggleable__label-arrow:before {content: \"▸\";float: left;margin-right: 0.25em;color: #696969;}#sk-container-id-10 label.sk-toggleable__label-arrow:hover:before {color: black;}#sk-container-id-10 div.sk-estimator:hover label.sk-toggleable__label-arrow:before {color: black;}#sk-container-id-10 div.sk-toggleable__content {max-height: 0;max-width: 0;overflow: hidden;text-align: left;background-color: #f0f8ff;}#sk-container-id-10 div.sk-toggleable__content pre {margin: 0.2em;color: black;border-radius: 0.25em;background-color: #f0f8ff;}#sk-container-id-10 input.sk-toggleable__control:checked~div.sk-toggleable__content {max-height: 200px;max-width: 100%;overflow: auto;}#sk-container-id-10 input.sk-toggleable__control:checked~label.sk-toggleable__label-arrow:before {content: \"▾\";}#sk-container-id-10 div.sk-estimator input.sk-toggleable__control:checked~label.sk-toggleable__label {background-color: #d4ebff;}#sk-container-id-10 div.sk-label input.sk-toggleable__control:checked~label.sk-toggleable__label {background-color: #d4ebff;}#sk-container-id-10 input.sk-hidden--visually {border: 0;clip: rect(1px 1px 1px 1px);clip: rect(1px, 1px, 1px, 1px);height: 1px;margin: -1px;overflow: hidden;padding: 0;position: absolute;width: 1px;}#sk-container-id-10 div.sk-estimator {font-family: monospace;background-color: #f0f8ff;border: 1px dotted black;border-radius: 0.25em;box-sizing: border-box;margin-bottom: 0.5em;}#sk-container-id-10 div.sk-estimator:hover {background-color: #d4ebff;}#sk-container-id-10 div.sk-parallel-item::after {content: \"\";width: 100%;border-bottom: 1px solid gray;flex-grow: 1;}#sk-container-id-10 div.sk-label:hover label.sk-toggleable__label {background-color: #d4ebff;}#sk-container-id-10 div.sk-serial::before {content: \"\";position: absolute;border-left: 1px solid gray;box-sizing: border-box;top: 0;bottom: 0;left: 50%;z-index: 0;}#sk-container-id-10 div.sk-serial {display: flex;flex-direction: column;align-items: center;background-color: white;padding-right: 0.2em;padding-left: 0.2em;position: relative;}#sk-container-id-10 div.sk-item {position: relative;z-index: 1;}#sk-container-id-10 div.sk-parallel {display: flex;align-items: stretch;justify-content: center;background-color: white;position: relative;}#sk-container-id-10 div.sk-item::before, #sk-container-id-10 div.sk-parallel-item::before {content: \"\";position: absolute;border-left: 1px solid gray;box-sizing: border-box;top: 0;bottom: 0;left: 50%;z-index: -1;}#sk-container-id-10 div.sk-parallel-item {display: flex;flex-direction: column;z-index: 1;position: relative;background-color: white;}#sk-container-id-10 div.sk-parallel-item:first-child::after {align-self: flex-end;width: 50%;}#sk-container-id-10 div.sk-parallel-item:last-child::after {align-self: flex-start;width: 50%;}#sk-container-id-10 div.sk-parallel-item:only-child::after {width: 0;}#sk-container-id-10 div.sk-dashed-wrapped {border: 1px dashed gray;margin: 0 0.4em 0.5em 0.4em;box-sizing: border-box;padding-bottom: 0.4em;background-color: white;}#sk-container-id-10 div.sk-label label {font-family: monospace;font-weight: bold;display: inline-block;line-height: 1.2em;}#sk-container-id-10 div.sk-label-container {text-align: center;}#sk-container-id-10 div.sk-container {/* jupyter's `normalize.less` sets `[hidden] { display: none; }` but bootstrap.min.css set `[hidden] { display: none !important; }` so we also need the `!important` here to be able to override the default hidden behavior on the sphinx rendered scikit-learn.org. See: https://github.com/scikit-learn/scikit-learn/issues/21755 */display: inline-block !important;position: relative;}#sk-container-id-10 div.sk-text-repr-fallback {display: none;}</style><div id=\"sk-container-id-10\" class=\"sk-top-container\"><div class=\"sk-text-repr-fallback\"><pre>MLPClassifier()</pre><b>In a Jupyter environment, please rerun this cell to show the HTML representation or trust the notebook. <br />On GitHub, the HTML representation is unable to render, please try loading this page with nbviewer.org.</b></div><div class=\"sk-container\" hidden><div class=\"sk-item\"><div class=\"sk-estimator sk-toggleable\"><input class=\"sk-toggleable__control sk-hidden--visually\" id=\"sk-estimator-id-10\" type=\"checkbox\" checked><label for=\"sk-estimator-id-10\" class=\"sk-toggleable__label sk-toggleable__label-arrow\">MLPClassifier</label><div class=\"sk-toggleable__content\"><pre>MLPClassifier()</pre></div></div></div></div></div>"
      ],
      "text/plain": [
       "MLPClassifier()"
      ]
     },
     "execution_count": 119,
     "metadata": {},
     "output_type": "execute_result"
    }
   ],
   "source": [
    "#Entrenamos el modelo\n",
    "\n",
    "clf.fit(x_train,y_train)"
   ]
  },
  {
   "cell_type": "markdown",
   "metadata": {},
   "source": [
    "# Vamos a sacar todas las Metricas de la matriz de confusion"
   ]
  },
  {
   "cell_type": "code",
   "execution_count": 120,
   "metadata": {},
   "outputs": [
    {
     "data": {
      "text/plain": [
       "0.9066666666666666"
      ]
     },
     "execution_count": 120,
     "metadata": {},
     "output_type": "execute_result"
    }
   ],
   "source": [
    "#Score\n",
    "\n",
    "clf.score(x_train,y_train) #F1 Score de los datos de entrenamiento #Datos y etiqueta\n",
    "\n"
   ]
  },
  {
   "cell_type": "code",
   "execution_count": 121,
   "metadata": {},
   "outputs": [
    {
     "data": {
      "text/plain": [
       "0.88"
      ]
     },
     "execution_count": 121,
     "metadata": {},
     "output_type": "execute_result"
    }
   ],
   "source": [
    "clf.score(x_test,y_test) #Datos y etiqueta"
   ]
  },
  {
   "cell_type": "markdown",
   "metadata": {},
   "source": [
    "Los métodos `score` en scikit-learn se utilizan para evaluar el rendimiento de un modelo de aprendizaje automático en diferentes conjuntos de datos:\n",
    "\n",
    "- `clf.score(x_train, y_train)`: Evalúa qué tan bien se ajusta el modelo a los datos de entrenamiento. Mide la capacidad del modelo para reproducir las etiquetas reales en los datos de entrenamiento.\n",
    "\n",
    "- `clf.score(x_test, y_test)`: Evalúa qué tan bien el modelo generaliza a datos no vistos. Proporciona una medida de su rendimiento en situaciones de la vida real.\n",
    "\n",
    "Es importante utilizar ambos conjuntos de datos:\n",
    "\n",
    "- `clf.score(x_train, y_train)`: Verifica si el modelo ha aprendido correctamente los datos de entrenamiento.\n",
    "\n",
    "- `clf.score(x_test, y_test)`: Evalúa cómo se desempeña el modelo en datos no vistos, lo que proporciona una medida realista de su capacidad para hacer predicciones precisas.\n"
   ]
  },
  {
   "cell_type": "markdown",
   "metadata": {},
   "source": [
    "## Datos de Entrenamiento\n",
    "\n",
    "- Son utilizados para entrenar el modelo de aprendizaje automático.\n",
    "- El modelo ajusta sus parámetros utilizando estos datos durante el proceso de entrenamiento.\n",
    "- Se utilizan para capturar patrones y relaciones en los datos.\n",
    "- Los datos de entrenamiento deben ser representativos y variados para que el modelo pueda generalizar correctamente.\n",
    "\n",
    "## Datos de Prueba\n",
    "\n",
    "- Son utilizados para evaluar el rendimiento del modelo después de que ha sido entrenado.\n",
    "- El modelo hace predicciones sobre estos datos y se comparan con las etiquetas reales para evaluar su rendimiento.\n",
    "- Proporcionan una estimación del rendimiento del modelo\n"
   ]
  },
  {
   "cell_type": "markdown",
   "metadata": {},
   "source": [
    "En el conjunto de datos \"moon\" de scikit-learn (`make_moons`), los datos de entrenamiento y los datos de prueba se generan a partir de un conjunto de datos sintético creado por la función `make_moons`.\n",
    "\n",
    "Para dividir estos datos en conjuntos de entrenamiento y prueba, se utiliza la función `train_test_split` de scikit-learn. Esta función divide aleatoriamente el conjunto de datos en dos partes: datos de entrenamiento y datos de prueba.\n"
   ]
  },
  {
   "cell_type": "code",
   "execution_count": 122,
   "metadata": {},
   "outputs": [],
   "source": [
    "predictions_train=clf.predict(x_train)\n",
    "\n",
    "predictions_test=clf.predict(x_test)"
   ]
  },
  {
   "cell_type": "code",
   "execution_count": 123,
   "metadata": {},
   "outputs": [
    {
     "data": {
      "text/plain": [
       "0.9066666666666666"
      ]
     },
     "execution_count": 123,
     "metadata": {},
     "output_type": "execute_result"
    }
   ],
   "source": [
    "accuracy_train=accuracy_score(y_train,predictions_train)\n",
    "\n",
    "accuracy_train\n",
    "\n",
    "#Podemos decir que necesita 2 parametros: 1) El \"y\" con el que se desea trabajar y un y_predict\n",
    "#Este y predict sale de entrenar los x, algun confunso la verdad pero asi funciona"
   ]
  },
  {
   "cell_type": "code",
   "execution_count": 124,
   "metadata": {},
   "outputs": [
    {
     "data": {
      "text/plain": [
       "0.88"
      ]
     },
     "execution_count": 124,
     "metadata": {},
     "output_type": "execute_result"
    }
   ],
   "source": [
    "accuracy_test=accuracy_score(y_test,predictions_test)\n",
    "\n",
    "accuracy_test"
   ]
  },
  {
   "cell_type": "code",
   "execution_count": 125,
   "metadata": {},
   "outputs": [
    {
     "data": {
      "text/plain": [
       "0.8818181818181818"
      ]
     },
     "execution_count": 125,
     "metadata": {},
     "output_type": "execute_result"
    }
   ],
   "source": [
    "presicion_train=precision_score(y_train,predictions_train)\n",
    "\n",
    "presicion_train"
   ]
  },
  {
   "cell_type": "code",
   "execution_count": 126,
   "metadata": {},
   "outputs": [
    {
     "data": {
      "text/plain": [
       "0.9285714285714286"
      ]
     },
     "execution_count": 126,
     "metadata": {},
     "output_type": "execute_result"
    }
   ],
   "source": [
    "presicion_test=precision_score(y_test,predictions_test)\n",
    "\n",
    "presicion_test"
   ]
  },
  {
   "cell_type": "code",
   "execution_count": 127,
   "metadata": {},
   "outputs": [
    {
     "data": {
      "text/plain": [
       "0.9238095238095239"
      ]
     },
     "execution_count": 127,
     "metadata": {},
     "output_type": "execute_result"
    }
   ],
   "source": [
    "recall_train=recall_score(y_train,predictions_train)\n",
    "\n",
    "recall_train"
   ]
  },
  {
   "cell_type": "code",
   "execution_count": 128,
   "metadata": {},
   "outputs": [
    {
     "data": {
      "text/plain": [
       "0.8666666666666667"
      ]
     },
     "execution_count": 128,
     "metadata": {},
     "output_type": "execute_result"
    }
   ],
   "source": [
    "recall_test=recall_score(y_test,predictions_test)\n",
    "\n",
    "recall_test"
   ]
  },
  {
   "cell_type": "markdown",
   "metadata": {},
   "source": [
    "# Matrices de confusion"
   ]
  },
  {
   "cell_type": "code",
   "execution_count": 129,
   "metadata": {},
   "outputs": [
    {
     "data": {
      "text/plain": [
       "array([[107,  13],\n",
       "       [  8,  97]], dtype=int64)"
      ]
     },
     "execution_count": 129,
     "metadata": {},
     "output_type": "execute_result"
    }
   ],
   "source": [
    "#matriz con datos de entrenamiento\n",
    "\n",
    "matriz_train=confusion_matrix(y_train,predictions_train)\n",
    "\n",
    "matriz_train"
   ]
  },
  {
   "cell_type": "code",
   "execution_count": 130,
   "metadata": {},
   "outputs": [
    {
     "data": {
      "text/plain": [
       "array([[27,  3],\n",
       "       [ 6, 39]], dtype=int64)"
      ]
     },
     "execution_count": 130,
     "metadata": {},
     "output_type": "execute_result"
    }
   ],
   "source": [
    "matriz_Test=confusion_matrix(y_test,predictions_test)\n",
    "matriz_Test"
   ]
  },
  {
   "cell_type": "code",
   "execution_count": 132,
   "metadata": {},
   "outputs": [
    {
     "name": "stdout",
     "output_type": "stream",
     "text": [
      "              precision    recall  f1-score   support\n",
      "\n",
      "           0       0.82      0.90      0.86        30\n",
      "           1       0.93      0.87      0.90        45\n",
      "\n",
      "    accuracy                           0.88        75\n",
      "   macro avg       0.87      0.88      0.88        75\n",
      "weighted avg       0.88      0.88      0.88        75\n",
      "\n"
     ]
    }
   ],
   "source": [
    "#Reportes de metricas\n",
    "\n",
    "report_test=classification_report(y_test,predictions_test)\n",
    "\n",
    "print(report_test)"
   ]
  },
  {
   "cell_type": "code",
   "execution_count": 133,
   "metadata": {},
   "outputs": [
    {
     "name": "stdout",
     "output_type": "stream",
     "text": [
      "              precision    recall  f1-score   support\n",
      "\n",
      "           0       0.93      0.89      0.91       120\n",
      "           1       0.88      0.92      0.90       105\n",
      "\n",
      "    accuracy                           0.91       225\n",
      "   macro avg       0.91      0.91      0.91       225\n",
      "weighted avg       0.91      0.91      0.91       225\n",
      "\n"
     ]
    }
   ],
   "source": [
    "report_train=classification_report(y_train,predictions_train)\n",
    "\n",
    "print(report_train)"
   ]
  }
 ],
 "metadata": {
  "kernelspec": {
   "display_name": "Python 3",
   "language": "python",
   "name": "python3"
  },
  "language_info": {
   "codemirror_mode": {
    "name": "ipython",
    "version": 3
   },
   "file_extension": ".py",
   "mimetype": "text/x-python",
   "name": "python",
   "nbconvert_exporter": "python",
   "pygments_lexer": "ipython3",
   "version": "3.11.4"
  }
 },
 "nbformat": 4,
 "nbformat_minor": 2
}
