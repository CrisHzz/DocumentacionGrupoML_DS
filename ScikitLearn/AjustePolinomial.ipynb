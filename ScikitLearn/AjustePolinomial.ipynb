{
 "cells": [
  {
   "cell_type": "markdown",
   "metadata": {},
   "source": [
    "# Ajuste polinomial de curvas"
   ]
  },
  {
   "cell_type": "markdown",
   "metadata": {},
   "source": [
    "*El ajuste polinomial de curvas es un método utilizado en estadística y análisis de datos para encontrar una función polinomial que se ajuste mejor a un conjunto de datos dado. En lugar de ajustarse a una línea recta como en la regresión lineal, el ajuste polinomial permite modelar relaciones más complejas entre las variables.*\n",
    "\n",
    "*El ajuste polinomial puede ser útil cuando los datos muestran una tendencia no lineal o curvilínea. Sin embargo, es importante tener en cuenta que un polinomio de alto grado puede llevar al sobreajuste, donde el modelo se ajusta demasiado a los datos de entrenamiento y pierde capacidad de generalización para nuevos datos.*\n"
   ]
  },
  {
   "cell_type": "markdown",
   "metadata": {},
   "source": [
    "![ajuste_Curvas](../Media/AjusteCurvas.png)"
   ]
  },
  {
   "cell_type": "markdown",
   "metadata": {},
   "source": [
    "$[ p(x) = a_0 + a_1x + a_2x^2 + \\ldots + a_{n-1}x^{n-1} ]$\n",
    "\n"
   ]
  },
  {
   "cell_type": "markdown",
   "metadata": {},
   "source": [
    "1. **Forma de la función:**\n",
    "   - **Regresión lineal:** Modela la relación entre una variable independiente $ x $ y una variable dependiente  $y$  como una línea recta. La ecuación típica es $ y = beta_0 + beta_1x $, donde $beta_0 $ y $beta_1 $ son coeficientes que definen la pendiente y la intersección en el eje $ y $, respectivamente.\n",
    "   - **Ajuste polinomial:** Modela la relación entre $ x $ e $ y $ utilizando un polinomio de grado $ n $. La ecuación general es $ y = beta_0 + beta_1x + beta_2x^2 + \\ldots + beta_nx^n $, donde $beta_0, beta_1, \\ldots, \\beta_n $ son coeficientes.\n",
    "\n",
    "2. **Flexibilidad del modelo:**\n",
    "   - La regresión lineal es útil para modelar relaciones lineales simples entre variables. Es adecuada cuando los datos muestran una tendencia lineal clara.\n",
    "   - El ajuste polinomial es más flexible y puede modelar relaciones no lineales o curvilíneas entre variables. Esto permite capturar patrones más complejos en los datos.\n",
    "\n",
    "3. **Sensibilidad al sobreajuste:**\n",
    "   - **Regresión lineal:** Al ser un modelo simple, la regresión lineal tiende a ser menos propensa al sobreajuste, lo que significa que generalmente es más estable con nuevos datos.\n",
    "   - **Ajuste polinomial:** Los polinomios de grado alto pueden conducir fácilmente al sobreajuste, especialmente cuando se utilizan para ajustar conjuntos de datos pequeños. Un ajuste polinomial de alto grado puede adaptarse demasiado a los datos de entrenamiento y perder capacidad de generalización.\n",
    "\n",
    "4. **Interpretación de coeficientes:**\n",
    "   - En la regresión lineal, los coeficientes $beta_0 $ y $beta_1 $ tienen interpretaciones directas como la intersección en el eje $ y $ y la pendiente de la línea, respectivamente.\n",
    "   - En el ajuste polinomial, los coeficientes tienen interpretaciones menos directas debido a la mayor complejidad del modelo. Por ejemplo, en un ajuste polinomial de segundo grado $ n = 2 $ , $ beta_0 $ sería la intersección en el eje $ y $, \\$ beta_1$ representaría la contribución lineal y $ beta_2 $ estaría relacionado con la curvatura de la función."
   ]
  },
  {
   "cell_type": "markdown",
   "metadata": {},
   "source": [
    "# Cuando usarlo y cuando no"
   ]
  },
  {
   "cell_type": "markdown",
   "metadata": {},
   "source": [
    "Supongamos que estás analizando datos de ventas de una empresa a lo largo del tiempo. Tienes información sobre las ventas mensuales durante varios años. Tu objetivo es predecir las ventas futuras en función del tiempo.\n",
    "\n",
    "- **Regresión lineal:** Si los datos muestran una tendencia clara y constante en el tiempo, es decir, un aumento o disminución lineal en las ventas a lo largo de los meses o años, entonces la regresión lineal podría ser la elección adecuada. Por ejemplo, si las ventas han estado creciendo a un ritmo constante del 5% cada año, una regresión lineal podría capturar bien esa tendencia.\n",
    "  \n",
    "- **Ajuste polinomial:** Sin embargo, si los datos no siguen una tendencia lineal clara y muestran variaciones no lineales, como picos y valles irregulares a lo largo del tiempo, entonces un ajuste polinomial podría ser más apropiado. Por ejemplo, si las ventas tienen estacionalidad, con aumentos significativos en ciertos meses del año (como durante las vacaciones), un ajuste polinomial podría modelar mejor esas fluctuaciones.\n",
    "\n",
    "En este caso, la regresión lineal sería más adecuada si las ventas muestran una tendencia de crecimiento o disminución constante con el tiempo, mientras que el ajuste polinomial sería más útil si las ventas tienen patrones más complejos y no lineales a lo largo del tiempo, como estacionalidad o variaciones irregulares.\n"
   ]
  },
  {
   "cell_type": "code",
   "execution_count": 49,
   "metadata": {},
   "outputs": [],
   "source": [
    "import numpy as np\n",
    "\n",
    "import pandas as pd\n",
    "\n",
    "import matplotlib.pyplot as plt\n",
    "\n",
    "from sklearn.linear_model import LinearRegression\n",
    "\n",
    "from sklearn.preprocessing import PolynomialFeatures\n",
    "\n"
   ]
  },
  {
   "cell_type": "code",
   "execution_count": 50,
   "metadata": {},
   "outputs": [],
   "source": [
    "x = np.array([1, 2, 3, 4, 5])\n",
    "\n",
    "y = np.array([2, 3, 5, 7, 9])\n"
   ]
  },
  {
   "cell_type": "markdown",
   "metadata": {},
   "source": [
    "Nota: Si vamos a trabajar con un columna de pandas debemos de transformarla a una arreglo unidimensional\n",
    "\n",
    "Ejemplo:\n",
    "\n",
    "x_array = x.values.reshape(-1, 1) #Necesitamos transformar nuestra columna de pandas en un arreglo de una sola dimension Unidimensional"
   ]
  },
  {
   "cell_type": "code",
   "execution_count": 51,
   "metadata": {},
   "outputs": [],
   "source": [
    "poly_degree=2\n",
    "\n",
    "poly_features = PolynomialFeatures(degree=poly_degree) #Creacion de instancia para poder trabajar con polinomios\n",
    "\n",
    "x_poly=poly_features.fit_transform(x.reshape(-1,1)) #Ahora ya en unidimensional ya podemos adapatarlo en un polinomio\n",
    "\n",
    "\n"
   ]
  },
  {
   "cell_type": "code",
   "execution_count": 52,
   "metadata": {},
   "outputs": [
    {
     "data": {
      "text/html": [
       "<style>#sk-container-id-4 {color: black;}#sk-container-id-4 pre{padding: 0;}#sk-container-id-4 div.sk-toggleable {background-color: white;}#sk-container-id-4 label.sk-toggleable__label {cursor: pointer;display: block;width: 100%;margin-bottom: 0;padding: 0.3em;box-sizing: border-box;text-align: center;}#sk-container-id-4 label.sk-toggleable__label-arrow:before {content: \"▸\";float: left;margin-right: 0.25em;color: #696969;}#sk-container-id-4 label.sk-toggleable__label-arrow:hover:before {color: black;}#sk-container-id-4 div.sk-estimator:hover label.sk-toggleable__label-arrow:before {color: black;}#sk-container-id-4 div.sk-toggleable__content {max-height: 0;max-width: 0;overflow: hidden;text-align: left;background-color: #f0f8ff;}#sk-container-id-4 div.sk-toggleable__content pre {margin: 0.2em;color: black;border-radius: 0.25em;background-color: #f0f8ff;}#sk-container-id-4 input.sk-toggleable__control:checked~div.sk-toggleable__content {max-height: 200px;max-width: 100%;overflow: auto;}#sk-container-id-4 input.sk-toggleable__control:checked~label.sk-toggleable__label-arrow:before {content: \"▾\";}#sk-container-id-4 div.sk-estimator input.sk-toggleable__control:checked~label.sk-toggleable__label {background-color: #d4ebff;}#sk-container-id-4 div.sk-label input.sk-toggleable__control:checked~label.sk-toggleable__label {background-color: #d4ebff;}#sk-container-id-4 input.sk-hidden--visually {border: 0;clip: rect(1px 1px 1px 1px);clip: rect(1px, 1px, 1px, 1px);height: 1px;margin: -1px;overflow: hidden;padding: 0;position: absolute;width: 1px;}#sk-container-id-4 div.sk-estimator {font-family: monospace;background-color: #f0f8ff;border: 1px dotted black;border-radius: 0.25em;box-sizing: border-box;margin-bottom: 0.5em;}#sk-container-id-4 div.sk-estimator:hover {background-color: #d4ebff;}#sk-container-id-4 div.sk-parallel-item::after {content: \"\";width: 100%;border-bottom: 1px solid gray;flex-grow: 1;}#sk-container-id-4 div.sk-label:hover label.sk-toggleable__label {background-color: #d4ebff;}#sk-container-id-4 div.sk-serial::before {content: \"\";position: absolute;border-left: 1px solid gray;box-sizing: border-box;top: 0;bottom: 0;left: 50%;z-index: 0;}#sk-container-id-4 div.sk-serial {display: flex;flex-direction: column;align-items: center;background-color: white;padding-right: 0.2em;padding-left: 0.2em;position: relative;}#sk-container-id-4 div.sk-item {position: relative;z-index: 1;}#sk-container-id-4 div.sk-parallel {display: flex;align-items: stretch;justify-content: center;background-color: white;position: relative;}#sk-container-id-4 div.sk-item::before, #sk-container-id-4 div.sk-parallel-item::before {content: \"\";position: absolute;border-left: 1px solid gray;box-sizing: border-box;top: 0;bottom: 0;left: 50%;z-index: -1;}#sk-container-id-4 div.sk-parallel-item {display: flex;flex-direction: column;z-index: 1;position: relative;background-color: white;}#sk-container-id-4 div.sk-parallel-item:first-child::after {align-self: flex-end;width: 50%;}#sk-container-id-4 div.sk-parallel-item:last-child::after {align-self: flex-start;width: 50%;}#sk-container-id-4 div.sk-parallel-item:only-child::after {width: 0;}#sk-container-id-4 div.sk-dashed-wrapped {border: 1px dashed gray;margin: 0 0.4em 0.5em 0.4em;box-sizing: border-box;padding-bottom: 0.4em;background-color: white;}#sk-container-id-4 div.sk-label label {font-family: monospace;font-weight: bold;display: inline-block;line-height: 1.2em;}#sk-container-id-4 div.sk-label-container {text-align: center;}#sk-container-id-4 div.sk-container {/* jupyter's `normalize.less` sets `[hidden] { display: none; }` but bootstrap.min.css set `[hidden] { display: none !important; }` so we also need the `!important` here to be able to override the default hidden behavior on the sphinx rendered scikit-learn.org. See: https://github.com/scikit-learn/scikit-learn/issues/21755 */display: inline-block !important;position: relative;}#sk-container-id-4 div.sk-text-repr-fallback {display: none;}</style><div id=\"sk-container-id-4\" class=\"sk-top-container\"><div class=\"sk-text-repr-fallback\"><pre>LinearRegression()</pre><b>In a Jupyter environment, please rerun this cell to show the HTML representation or trust the notebook. <br />On GitHub, the HTML representation is unable to render, please try loading this page with nbviewer.org.</b></div><div class=\"sk-container\" hidden><div class=\"sk-item\"><div class=\"sk-estimator sk-toggleable\"><input class=\"sk-toggleable__control sk-hidden--visually\" id=\"sk-estimator-id-4\" type=\"checkbox\" checked><label for=\"sk-estimator-id-4\" class=\"sk-toggleable__label sk-toggleable__label-arrow\">LinearRegression</label><div class=\"sk-toggleable__content\"><pre>LinearRegression()</pre></div></div></div></div></div>"
      ],
      "text/plain": [
       "LinearRegression()"
      ]
     },
     "execution_count": 52,
     "metadata": {},
     "output_type": "execute_result"
    }
   ],
   "source": [
    "lineal_regresion_Aux=LinearRegression()\n",
    "\n",
    "\n",
    "lineal_regresion_Aux.fit(x_poly,y)\n",
    "\n"
   ]
  },
  {
   "cell_type": "code",
   "execution_count": 53,
   "metadata": {},
   "outputs": [],
   "source": [
    "x_pred = np.linspace(min(x), max(x), 100).reshape(-1, 1)\n",
    "\n",
    "X_pred_poly = poly_features.transform(x_pred)\n",
    "\n",
    "y_pred = lineal_regresion_Aux.predict(X_pred_poly)"
   ]
  },
  {
   "cell_type": "code",
   "execution_count": 54,
   "metadata": {},
   "outputs": [
    {
     "data": {
      "image/png": "[encoded data removed]",
      "text/plain": [
       "<Figure size 640x480 with 1 Axes>"
      ]
     },
     "metadata": {},
     "output_type": "display_data"
    }
   ],
   "source": [
    "plt.plot(x_pred, y_pred, color='lightcoral',label='Ajuste polinomial')\n",
    "\n",
    "plt.scatter(x,y,color=\"darkslategrey\",label=\"Datos Originales\")\n",
    "\n",
    "plt.xlabel('X')\n",
    "\n",
    "plt.ylabel('Y')\n",
    "\n",
    "plt.title('Ajuste polinomial de curvas')\n",
    "\n",
    "plt.legend()\n",
    "\n",
    "plt.show()"
   ]
  },
  {
   "cell_type": "code",
   "execution_count": 55,
   "metadata": {},
   "outputs": [
    {
     "name": "stdout",
     "output_type": "stream",
     "text": [
      "Fórmula del polinomio ajustado:\n",
      "y = 0.8000000000000087 + 0.9428571428571346 * x^1 + 0.14285714285714435 * x^2\n"
     ]
    }
   ],
   "source": [
    "# Suponiendo que model es tu modelo de regresión polinomial ajustado\n",
    "coefficients = lineal_regresion_Aux.coef_\n",
    "\n",
    "intercept = lineal_regresion_Aux.intercept_\n",
    "\n",
    "# Imprimir la fórmula del polinomio\n",
    "print(\"Fórmula del polinomio ajustado:\")\n",
    "print(f\"y = {intercept}\", end=\"\")\n",
    "\n",
    "for i in range(1, len(coefficients)):\n",
    "    print(f\" + {coefficients[i]} * x^{i}\", end=\"\")\n",
    "\n",
    "print()"
   ]
  }
 ],
 "metadata": {
  "kernelspec": {
   "display_name": "Python 3",
   "language": "python",
   "name": "python3"
  },
  "language_info": {
   "codemirror_mode": {
    "name": "ipython",
    "version": 3
   },
   "file_extension": ".py",
   "mimetype": "text/x-python",
   "name": "python",
   "nbconvert_exporter": "python",
   "pygments_lexer": "ipython3",
   "version": "3.11.4"
  }
 },
 "nbformat": 4,
 "nbformat_minor": 2
}
