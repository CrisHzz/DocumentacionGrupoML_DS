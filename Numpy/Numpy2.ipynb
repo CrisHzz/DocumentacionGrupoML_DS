{
 "cells": [
  {
   "cell_type": "markdown",
   "metadata": {},
   "source": [
    "# Operaciones entre arreglos , matematicas y estadistica."
   ]
  },
  {
   "cell_type": "markdown",
   "metadata": {},
   "source": [
    "Numpy nos permite realizar una serie de operaciones usando los arreglos en donde estas seran fundamentales para el tema de implementacion de modelos o de algunos datos fundamentales, empezare a mostrar las basicas y algunas mas especificas"
   ]
  },
  {
   "cell_type": "code",
   "execution_count": 2,
   "metadata": {},
   "outputs": [
    {
     "name": "stdout",
     "output_type": "stream",
     "text": [
      "[15  8  8  3] Usando la funcion\n",
      "[15  8  8  3] Usando el operador\n",
      "[ 5  0  2 -1]\n",
      "[50 16 15  2]\n"
     ]
    }
   ],
   "source": [
    "import numpy as np\n",
    "\n",
    "array_1=np.array([5,4,3,2]) #Creamos 2 arreglos de igual dimension\n",
    "\n",
    "array_2=np.array([10,4,5,1])\n",
    "\n",
    "#Podemos sumarlos entre si , la clasica suma punto a punto de vectores o matrices\n",
    "\n",
    "print(np.add(array_1,array_2),'Usando la funcion')\n",
    "\n",
    "# O simplemente usar el operador +\n",
    "\n",
    "print(array_1+array_2,'Usando el operador')\n",
    "\n",
    "print(np.subtract(array_2,array_1)) #Lo mismo para dividir\n",
    "\n",
    "print(np.multiply(array_2,array_1)) #Lo mismo para multiplicar entre escalares, no es multiplicacion de vectores y matrices\n"
   ]
  },
  {
   "cell_type": "markdown",
   "metadata": {},
   "source": [
    "Recordar que la multiplicacion entre matrices y el producto a escalar de estas es diferentes, pues en uno se multiplica elemento a elemento y en la otra usa una tecnica diferente. **La de arriba se llama producto punto a punto**\n",
    "\n",
    "Arriba vimos la que solo multiplica sus componentes punto a punto , vamos a ver la multiplicacion de matrices normal y la de un escalar por una matriz\n",
    "\n",
    "## Matriz por escalar"
   ]
  },
  {
   "cell_type": "code",
   "execution_count": 3,
   "metadata": {},
   "outputs": [
    {
     "name": "stdout",
     "output_type": "stream",
     "text": [
      "[[1 1 1]\n",
      " [1 1 1]\n",
      " [1 1 1]]\n",
      "[[5 5 5]\n",
      " [5 5 5]\n",
      " [5 5 5]]\n"
     ]
    }
   ],
   "source": [
    "matriz_ones=np.ones((3,3),int)\n",
    "\n",
    "print(matriz_ones)\n",
    "\n",
    "#Si multiplicamos un escalar por un matriz obtenemos\n",
    "\n",
    "print(5*matriz_ones) #Aqui si es normal pues el numero por cada uno de los elementos\n",
    "\n",
    "#Sin embargo ahora hagamos la multiplicacion de matrices\n"
   ]
  },
  {
   "cell_type": "code",
   "execution_count": 4,
   "metadata": {},
   "outputs": [
    {
     "name": "stdout",
     "output_type": "stream",
     "text": [
      "[[0 1]\n",
      " [5 0]]\n",
      "[[3 0]\n",
      " [0 4]]\n",
      "[[ 0  4]\n",
      " [15  0]]\n"
     ]
    }
   ],
   "source": [
    "matriz_2x2_A=np.random.randint(0,10 ,size=((2,2))) #Me sirve para generar una matriz random con valores\n",
    "\n",
    "print(matriz_2x2_A)\n",
    "\n",
    "matriz_2x2_B=np.random.randint(0,10 ,size=((2,2)))\n",
    "\n",
    "print(matriz_2x2_B)\n",
    "\n",
    "print(np.dot(matriz_2x2_A,matriz_2x2_B)) \n"
   ]
  },
  {
   "cell_type": "markdown",
   "metadata": {},
   "source": [
    "Notese que si multiplicamos elemento a elemento no se tiene lo que concuerda ya que aqui se multiplica la fila de uno por la columna de otro, se que es algo raro pero asi funciona. **Las matrices de igual tamaño siempre se pueden multiplicar , si tienen diferente tamaño se debe de realizar un analisis para comprobar si son posibles**"
   ]
  },
  {
   "cell_type": "code",
   "execution_count": 5,
   "metadata": {},
   "outputs": [
    {
     "name": "stdout",
     "output_type": "stream",
     "text": [
      "[3125 1024  243   32]\n",
      "[[1 1 1]\n",
      " [1 1 1]\n",
      " [1 1 1]]\n",
      "[[   0    1]\n",
      " [3125    0]]\n"
     ]
    }
   ],
   "source": [
    "#Por ultimo algunas funciones basicas mas son\n",
    "\n",
    "print(np.power(array_1,5)) #Elevar matrices a un numero en especifico\n",
    "\n",
    "print(np.power(matriz_ones,5))\n",
    "\n",
    "print(np.power(matriz_2x2_A,5))\n",
    "\n"
   ]
  },
  {
   "cell_type": "markdown",
   "metadata": {},
   "source": [
    "## Algunas aplicaciones a la estadistica"
   ]
  },
  {
   "cell_type": "code",
   "execution_count": 6,
   "metadata": {},
   "outputs": [
    {
     "name": "stdout",
     "output_type": "stream",
     "text": [
      "[ 1  2  3  4  5  6  7  8  9 10]\n",
      "5.5\n",
      "5.5\n",
      "2.8722813232690143\n",
      "8.25\n"
     ]
    }
   ],
   "source": [
    "array_example=np.arange(1,11)\n",
    "\n",
    "print(array_example)\n",
    "\n",
    "print(np.mean(array_example)) #Podemos hallar la media \n",
    "\n",
    "print(np.median(array_example)) #Podemos hallar la mediana , em este caso por el tipo de arreglo nos dio igual\n",
    "\n",
    "print(np.std(array_example)) #Podemos hallar la desviacion estandar de un arreglo\n",
    "\n",
    "print(np.var(array_example)) #Podemos hallar la varianza\n"
   ]
  },
  {
   "cell_type": "markdown",
   "metadata": {},
   "source": [
    "Existen muchas mas pero con estas puedes avanzar bastante y ver mas alla para ampliar tu conocimiento"
   ]
  },
  {
   "cell_type": "markdown",
   "metadata": {},
   "source": [
    "## Algunas aplicaciones del algebra lineal con numpy"
   ]
  },
  {
   "cell_type": "markdown",
   "metadata": {},
   "source": [
    "Mostrare algunas operaciones del algebra lineal que pueden hacer con numpy , quizas en el momento no las veas utiles pero las puedes aplicar en el dia a dia o para obtener un valor en especifico mas adelante cuando creemos los modelos"
   ]
  },
  {
   "cell_type": "code",
   "execution_count": 8,
   "metadata": {},
   "outputs": [
    {
     "data": {
      "text/plain": [
       "array([[3, 0],\n",
       "       [0, 4]], dtype=int32)"
      ]
     },
     "execution_count": 8,
     "metadata": {},
     "output_type": "execute_result"
    }
   ],
   "source": [
    "matriz_2x2_B"
   ]
  },
  {
   "cell_type": "code",
   "execution_count": 13,
   "metadata": {},
   "outputs": [
    {
     "name": "stdout",
     "output_type": "stream",
     "text": [
      "12.0\n",
      "[[0.33333333 0.        ]\n",
      " [0.         0.25      ]]\n",
      "2\n",
      "[[3 0]\n",
      " [0 4]]\n",
      "7\n"
     ]
    }
   ],
   "source": [
    "print(np.linalg.det(matriz_2x2_B)) #Podemos hallar el determinante de una matriz\n",
    "\n",
    "print(np.linalg.inv(matriz_2x2_B)) #Podemos hallar la inversa de una matriz\n",
    "\n",
    "print(np.linalg.matrix_rank(matriz_2x2_B)) #Podemos hallar el rango de una matriz\n",
    "\n",
    "#Hallar la transpuesta de una matriz\n",
    "print(matriz_2x2_B.T)\n",
    "\n",
    "#Hallar la traza de una matriz\n",
    "print(np.trace(matriz_2x2_B))\n",
    "\n",
    "\n",
    "\n"
   ]
  },
  {
   "cell_type": "markdown",
   "metadata": {},
   "source": [
    "Podemos resolver sistemas de ecuaciones lineales de n dimensiones usando numpy.\n",
    "\n",
    "Usando la formula de \n",
    "\n",
    "$$AX=B$$\n",
    "\n",
    "-Donde A son los coeficientes de los S.E.L \n",
    "\n",
    "-X son las incognitas\n",
    "\n",
    "-B son los valores independientes igualados"
   ]
  },
  {
   "cell_type": "code",
   "execution_count": 29,
   "metadata": {},
   "outputs": [
    {
     "name": "stdout",
     "output_type": "stream",
     "text": [
      "[[ 2  1 -2]\n",
      " [ 3  0  1]\n",
      " [ 1  1 -1]]\n",
      "------\n",
      "[[-3]\n",
      " [ 5]\n",
      " [-2]]\n",
      "--------\n",
      "Las respuestas para x , y ,z son \n",
      " [[ 1.]\n",
      " [-1.]\n",
      " [ 2.]]\n",
      "True\n"
     ]
    }
   ],
   "source": [
    "A=np.array([[2,1,-2],[3,0,1],[1,1,-1]])\n",
    "\n",
    "B=np.array([[-3],[5],[-2]])\n",
    "\n",
    "print(A)\n",
    "\n",
    "print(\"------\")\n",
    "\n",
    "print(B)\n",
    "\n",
    "#Resolvemos el sistema\n",
    "print(\"--------\")\n",
    "\n",
    "operation=np.linalg.solve(A,B)\n",
    "\n",
    "print('Las respuestas para x , y ,z son \\n',operation)\n",
    "\n",
    "#Comprobamos si esta bueno\n",
    "print(np.allclose(np.dot(A,operation),B)) #Primer parametro la matriz A , el resultado y por ultimo B la matriz\n",
    "#Retorna un boolean"
   ]
  }
 ],
 "metadata": {
  "kernelspec": {
   "display_name": "venv",
   "language": "python",
   "name": "python3"
  },
  "language_info": {
   "codemirror_mode": {
    "name": "ipython",
    "version": 3
   },
   "file_extension": ".py",
   "mimetype": "text/x-python",
   "name": "python",
   "nbconvert_exporter": "python",
   "pygments_lexer": "ipython3",
   "version": "3.11.4"
  }
 },
 "nbformat": 4,
 "nbformat_minor": 2
}
