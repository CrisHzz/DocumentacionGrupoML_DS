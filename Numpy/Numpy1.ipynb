{
 "cells": [
  {
   "cell_type": "markdown",
   "metadata": {},
   "source": [
    "## Numpy\n",
    "\n",
    "Numpy es una librería para el control y manejo de arreglos enfocado en operaciones matemáticas , muy utilizado en el machine learning , matemáticas y la ciencia de datos. Lo usaremos demasiado a lo largo del grupo y será fundamental para la creación de muchas cosas\n",
    "\n",
    "Es necesario saber que un vector no es un más que una lista, pero enfocada más en las operaciones matemáticas , es un conjunto de n elementos , estos puedes pueden ser de múltiples dimensiones, cuando son unidimensional son vector , bidimensional son matrices y varias dimensiones se llaman tensores.\n",
    "\n",
    "Ejemplo\n",
    "\n",
    "$A =[5,4,3,2]$ Es un vector de 4 elementos\n",
    "\n",
    "$B =[[5,4,3,2],[8,5,1,6]]$ Es una matriz de 2 dimensiones y 8 elementos\n",
    "\n",
    "Recordar que Matemáticamente los elementos empiezan desde la posición 1, pero en programación se trabaja desde el 0"
   ]
  },
  {
   "cell_type": "markdown",
   "metadata": {},
   "source": [
    "## Instalar numpy\n",
    "\n",
    "Para instalar numpy podemos usar el siguiente comando en nuestra terminal\n",
    "\n",
    "`pip install numpy` , conociendo que debemos de tener ya pip en ella\n",
    "\n",
    "Por comodidad utilizaremos Google collab pues ya lo tiene integrado y es mas facil"
   ]
  },
  {
   "cell_type": "code",
   "execution_count": 1,
   "metadata": {},
   "outputs": [
    {
     "name": "stdout",
     "output_type": "stream",
     "text": [
      "[5 4 3 2]\n"
     ]
    }
   ],
   "source": [
    "import numpy as np\n",
    "\n",
    "a=np.array([5,4,3,2])\n",
    "\n",
    "b=np.array([[5,4,3,2],[8,5,1,6]])\n",
    "\n",
    "print(a)\n"
   ]
  },
  {
   "cell_type": "markdown",
   "metadata": {},
   "source": [
    "## Crear arreglos"
   ]
  },
  {
   "cell_type": "markdown",
   "metadata": {},
   "source": [
    "Podemos crear un arreglo usando la funcion np.array dependiendo si solo ponemos unos corchetes se creara un vector , cuando se ponen otros se creara una matriz"
   ]
  },
  {
   "cell_type": "code",
   "execution_count": 2,
   "metadata": {},
   "outputs": [
    {
     "name": "stdout",
     "output_type": "stream",
     "text": [
      "[[5 4 3 2]\n",
      " [8 5 1 6]]\n"
     ]
    }
   ],
   "source": [
    "print(b)"
   ]
  },
  {
   "cell_type": "code",
   "execution_count": 3,
   "metadata": {},
   "outputs": [
    {
     "name": "stdout",
     "output_type": "stream",
     "text": [
      "(2, 4)\n",
      "8\n"
     ]
    }
   ],
   "source": [
    "print(b.shape) #Podemos ver sus dimensiones usando el atributo .shape , filas y columnas\n",
    "\n",
    "print(b.size) #Podemos ver la cantidad de elementos usando .size"
   ]
  },
  {
   "cell_type": "code",
   "execution_count": 4,
   "metadata": {},
   "outputs": [
    {
     "data": {
      "text/plain": [
       "array([1, 2, 3, 4, 5, 6, 7, 8, 9])"
      ]
     },
     "execution_count": 4,
     "metadata": {},
     "output_type": "execute_result"
    }
   ],
   "source": [
    "c=np.arange(1,10)\n",
    "\n",
    "c"
   ]
  },
  {
   "cell_type": "markdown",
   "metadata": {},
   "source": [
    "Podemos crear un arreglo de valores lineales usando arange que tiene 3 parametros ,Inicio,final y cantidad de pasos"
   ]
  },
  {
   "cell_type": "code",
   "execution_count": 5,
   "metadata": {},
   "outputs": [
    {
     "data": {
      "text/plain": [
       "array([ 1,  3,  5,  7,  9, 11])"
      ]
     },
     "execution_count": 5,
     "metadata": {},
     "output_type": "execute_result"
    }
   ],
   "source": [
    "c2=np.arange(1,12,2)\n",
    "\n",
    "c2"
   ]
  },
  {
   "cell_type": "code",
   "execution_count": 6,
   "metadata": {},
   "outputs": [
    {
     "data": {
      "text/plain": [
       "array([1.        , 1.04081633, 1.08163265, 1.12244898, 1.16326531,\n",
       "       1.20408163, 1.24489796, 1.28571429, 1.32653061, 1.36734694,\n",
       "       1.40816327, 1.44897959, 1.48979592, 1.53061224, 1.57142857,\n",
       "       1.6122449 , 1.65306122, 1.69387755, 1.73469388, 1.7755102 ,\n",
       "       1.81632653, 1.85714286, 1.89795918, 1.93877551, 1.97959184,\n",
       "       2.02040816, 2.06122449, 2.10204082, 2.14285714, 2.18367347,\n",
       "       2.2244898 , 2.26530612, 2.30612245, 2.34693878, 2.3877551 ,\n",
       "       2.42857143, 2.46938776, 2.51020408, 2.55102041, 2.59183673,\n",
       "       2.63265306, 2.67346939, 2.71428571, 2.75510204, 2.79591837,\n",
       "       2.83673469, 2.87755102, 2.91836735, 2.95918367, 3.        ])"
      ]
     },
     "execution_count": 6,
     "metadata": {},
     "output_type": "execute_result"
    }
   ],
   "source": [
    "d=np.linspace(1,3,50)\n",
    "\n",
    "d"
   ]
  },
  {
   "cell_type": "markdown",
   "metadata": {},
   "source": [
    "Podemos usar np.linspace para crear un arreglo de un espacio infinitidecimal entre un numero y otro , inicio, final y cantidad de elementos a tomar. Es muy utilizada para la graficacion de modelos "
   ]
  },
  {
   "cell_type": "code",
   "execution_count": 7,
   "metadata": {},
   "outputs": [
    {
     "data": {
      "text/plain": [
       "array([[0., 0., 0.],\n",
       "       [0., 0., 0.],\n",
       "       [0., 0., 0.]])"
      ]
     },
     "execution_count": 7,
     "metadata": {},
     "output_type": "execute_result"
    }
   ],
   "source": [
    "zero = np.zeros((3,3)) #Crear un arreglo o matriz con ceros\n",
    "\n",
    "zero"
   ]
  },
  {
   "cell_type": "code",
   "execution_count": 8,
   "metadata": {},
   "outputs": [
    {
     "name": "stdout",
     "output_type": "stream",
     "text": [
      "[[5 4 3 2]\n",
      " [8 5 1 6]]\n",
      "5\n",
      "4\n",
      "3\n",
      "2\n",
      "8\n",
      "5\n",
      "1\n",
      "6\n"
     ]
    }
   ],
   "source": [
    "#Podemos usar bucles for para recorrer arreglos de numpy, forma para matrices\n",
    "print(b)\n",
    "\n",
    "for row in b:\n",
    "    for column in row:\n",
    "        print(column)"
   ]
  },
  {
   "cell_type": "code",
   "execution_count": 9,
   "metadata": {},
   "outputs": [
    {
     "name": "stdout",
     "output_type": "stream",
     "text": [
      "5\n",
      "4\n",
      "3\n",
      "2\n"
     ]
    }
   ],
   "source": [
    "#Otra forma mas facil, solo para vectores\n",
    "\n",
    "for i in a:\n",
    "    print(i)"
   ]
  },
  {
   "cell_type": "markdown",
   "metadata": {},
   "source": [
    "## Redimensionar"
   ]
  },
  {
   "cell_type": "markdown",
   "metadata": {},
   "source": [
    "**Podremos redimensionar arreglos a nuestro favor o en automatico, esto es muy importante para algunos modelos de ML**"
   ]
  },
  {
   "cell_type": "code",
   "execution_count": 10,
   "metadata": {},
   "outputs": [
    {
     "name": "stdout",
     "output_type": "stream",
     "text": [
      "Antes\n",
      "[[5 4 3 2]\n",
      " [8 5 1 6]]\n",
      "(2, 4)\n",
      "Despues\n",
      "[[5 4]\n",
      " [3 2]\n",
      " [8 5]\n",
      " [1 6]]\n"
     ]
    }
   ],
   "source": [
    "print('Antes')\n",
    "\n",
    "print(b)\n",
    "\n",
    "print(b.shape) #Como vemos que tiene 2 filas y cuatro columnas , podemos hacerlo convertirlo en una forma matematica real\n",
    "\n",
    "print('Despues')\n",
    "\n",
    "print(b.reshape(4,2))"
   ]
  },
  {
   "cell_type": "markdown",
   "metadata": {},
   "source": []
  },
  {
   "cell_type": "code",
   "execution_count": 11,
   "metadata": {},
   "outputs": [
    {
     "name": "stdout",
     "output_type": "stream",
     "text": [
      "[[5 4 3 2]\n",
      " [8 5 1 6]]\n"
     ]
    }
   ],
   "source": [
    "print(b.reshape(-1,4)) #El -1 lo transforma a una forma aleatoria posible ya sea la fila o columna"
   ]
  },
  {
   "cell_type": "markdown",
   "metadata": {},
   "source": [
    "## Indexeo y slicing\n",
    "\n",
    "Estas funciones son muy importantes y fundamentales para los arreglos, aunque son un poco dificiles de aprender"
   ]
  },
  {
   "cell_type": "code",
   "execution_count": 12,
   "metadata": {},
   "outputs": [
    {
     "name": "stdout",
     "output_type": "stream",
     "text": [
      "[5 4 3 2]\n",
      "5\n",
      "2\n",
      "3\n",
      "4\n"
     ]
    }
   ],
   "source": [
    "print(a)\n",
    "\n",
    "#Podemos acceder al primer elemento usando donde [] es la fila\n",
    "print(a[0])\n",
    "\n",
    "#Podemos acceder al ultimo elemento usando\n",
    "print(a[-1])\n",
    "\n",
    "#Podemos acceder al penultimo elemento usando\n",
    "print(a[-2])\n",
    "\n",
    "#Podemos acceder a cualquier elemento existente usando esta estructura n-1, este es el segundo elemento\n",
    "print(a[1])"
   ]
  },
  {
   "cell_type": "code",
   "execution_count": 13,
   "metadata": {},
   "outputs": [
    {
     "name": "stdout",
     "output_type": "stream",
     "text": [
      "5\n",
      "6\n",
      "1\n"
     ]
    }
   ],
   "source": [
    "#Lo mismo ocurre con las matrices solo que ya son 2 dimensiones, primer elemento\n",
    "\n",
    "print(b[0][0])\n",
    "\n",
    "#Ultimo elemento\n",
    "print(b[-1][-1])\n",
    "\n",
    "#Un elemento random ,usando la estructura de fila y columna [][]\n",
    "\n",
    "print(b[1][2])"
   ]
  },
  {
   "cell_type": "markdown",
   "metadata": {},
   "source": [
    "En NumPy, puedes usar varias formas de indexación para seleccionar elementos específicos de un array. Aquí te dejo algunos ejemplos:\n",
    "\n",
    "`SIEMPRE VA PRIMERO EL : EN CUALQUIER CASO QUE SE USE`\n",
    "\n",
    "1. **Indexación básica**: Puedes seleccionar un elemento específico de un array proporcionando su índice. Por ejemplo, `a[0]` selecciona el primer elemento de `a`.\n",
    "\n",
    "2. **Rebanado**: Puedes seleccionar un rango de elementos utilizando la notación de rebanado. Por ejemplo, `a[1:3]` selecciona los elementos desde el índice 1 hasta el índice 3 (exclusivo).\n",
    "\n",
    "3. **Indexación booleana**: Puedes seleccionar elementos que cumplan una condición específica. Por ejemplo, `a[a > 2]` selecciona todos los elementos de `a` que son mayores que 2.\n",
    "\n",
    "4. **Indexación de matrices enteras**: Puedes seleccionar elementos en un orden específico o más de una vez. Por ejemplo, `a[[2, 1, 0]]` selecciona los elementos en el orden inverso.\n",
    "\n",
    "5. **Indexación multidimensional**: Puedes seleccionar elementos de arrays multidimensionales. Por ejemplo, `a[1, 2]` selecciona el elemento en la segunda fila y la tercera columna de `a`.\n",
    "\n",
    "6. **Indexación con pasos**: Puedes seleccionar elementos con un paso específico. Por ejemplo, `a[::2]` selecciona cada segundo elemento de `a`.\n",
    "\n",
    "7. **Seleccionar una fila específica**: Si tienes un array bidimensional, puedes seleccionar una fila específica utilizando su índice. Por ejemplo, `a[2,:]` selecciona todos los elementos de la tercera fila.\n",
    "\n",
    "8. **Seleccionar una columna específica**: De manera similar, puedes seleccionar una columna específica utilizando su índice. Por ejemplo, `a[:,1]` selecciona todos los elementos de la segunda columna.\n",
    "    \n",
    "9. **Seleccionar elementos específicos**: Puedes seleccionar elementos específicos de un array proporcionando una lista de índices. Por ejemplo, `a[[0, 2]]` selecciona los elementos en los índices 0 y 2.\n",
    "\n",
    "10. **Seleccionar todos los elementos sin tomar un elemento**:  `a[1:]`  Este comando selecciona todos los elementos desde el segundo elemento hasta el final\n",
    "    \n",
    "- data[-1:]: Este comando selecciona todos los elementos de data desde el último elemento hasta el final. En Python, un índice negativo se utiliza para contar desde el final de la lista, por lo que -1: selecciona solo el último elemento.    \n",
    "\n",
    "11. **Todas menos la ultima fila  data`[:-1,:]` (bidimensional)**: Este comando se utiliza cuando data es un array bidimensional (como una matriz o un DataFrame en pandas). :-1 significa que se toman todas las filas desde la primera hasta la penúltima (excluyendo la última fila). El : después de la coma indica que se toman todas las columnas. Por lo tanto, este comando selecciona todas las columnas y todas las filas excepto la última.\n",
    "\n",
    "12. **Todas las columnas menos la ultima(Bidimensional)**: `data[:, :-1]` En este caso, el : antes de la coma indica que se toman todas las filas. El :-1 después de la coma significa que se toman todas las columnas desde la primera hasta la penúltima (excluyendo la última columna). Por lo tanto, este comando selecciona todas las filas y todas las columnas excepto la última."
   ]
  },
  {
   "cell_type": "markdown",
   "metadata": {},
   "source": [
    "**Algunos ejemplos**"
   ]
  },
  {
   "cell_type": "code",
   "execution_count": 14,
   "metadata": {},
   "outputs": [
    {
     "name": "stdout",
     "output_type": "stream",
     "text": [
      "[5 4 3 8 5 6]\n",
      "///\n",
      "[[1 2 3]\n",
      " [4 5 6]\n",
      " [7 8 9]]\n",
      "///\n",
      "[4 5 6]\n",
      "///\n",
      "[2 5 8]\n",
      "///\n",
      "[7 8 9]\n"
     ]
    }
   ],
   "source": [
    "print(b[b>2])\n",
    "\n",
    "print('///')\n",
    "\n",
    "matriz=np.arange(1,10).reshape(3,3,)\n",
    "\n",
    "print(matriz)\n",
    "\n",
    "print('///')\n",
    "\n",
    "print(matriz[1,:]) #Toma la segunda fila y todas las columnas :\n",
    "\n",
    "print('///')\n",
    "print(matriz[::,1]) #Toma todas las filas y solo el segundo elemento de estas \n",
    "\n",
    "print('///')\n",
    "\n",
    "print(matriz[-1,:])# De las filas toma la ultima y de las columnas todas"
   ]
  },
  {
   "cell_type": "code",
   "execution_count": 16,
   "metadata": {},
   "outputs": [
    {
     "data": {
      "text/plain": [
       "array([5, 4, 3, 2])"
      ]
     },
     "execution_count": 16,
     "metadata": {},
     "output_type": "execute_result"
    }
   ],
   "source": [
    "a"
   ]
  },
  {
   "cell_type": "code",
   "execution_count": 24,
   "metadata": {},
   "outputs": [
    {
     "name": "stdout",
     "output_type": "stream",
     "text": [
      "[  5   4   3   2 256]\n",
      "[5 4 3 2 5 7]\n"
     ]
    }
   ],
   "source": [
    "print(np.append(a,256)) #Podemos agregar elementos a un arreglo\n",
    "\n",
    "print(np.append(a,[[5],[7]]))\n"
   ]
  },
  {
   "cell_type": "markdown",
   "metadata": {},
   "source": [
    "En numpy existen axis que son los ejes de referencia en donde 1 es una columna y 0 es una fila , con esto podemos hacer que"
   ]
  },
  {
   "cell_type": "code",
   "execution_count": 26,
   "metadata": {},
   "outputs": [
    {
     "name": "stdout",
     "output_type": "stream",
     "text": [
      "[[1 2 3]\n",
      " [4 5 6]]\n",
      "[[1 2 3 7]\n",
      " [4 5 6 8]]\n"
     ]
    }
   ],
   "source": [
    "# Crear un arreglo bidimensional\n",
    "array_2d = np.array([[1, 2, 3], [4, 5, 6]])\n",
    "\n",
    "print(array_2d)\n",
    "\n",
    "# Agregar una columna al final del arreglo\n",
    "new_array_2d_col = np.append(array_2d, [[7], [8]], axis=1)\n",
    "\n",
    "print(new_array_2d_col)"
   ]
  },
  {
   "cell_type": "code",
   "execution_count": 29,
   "metadata": {},
   "outputs": [
    {
     "name": "stdout",
     "output_type": "stream",
     "text": [
      "[5 4 3 2]\n",
      "[5 4 3]\n"
     ]
    }
   ],
   "source": [
    "print(a)\n",
    "\n",
    "print(np.delete(a,-1)) #Puedo eliminar usando delete seguido de la posicion del elemento a eliminar"
   ]
  }
 ],
 "metadata": {
  "kernelspec": {
   "display_name": "venv",
   "language": "python",
   "name": "python3"
  },
  "language_info": {
   "codemirror_mode": {
    "name": "ipython",
    "version": 3
   },
   "file_extension": ".py",
   "mimetype": "text/x-python",
   "name": "python",
   "nbconvert_exporter": "python",
   "pygments_lexer": "ipython3",
   "version": "3.11.4"
  }
 },
 "nbformat": 4,
 "nbformat_minor": 2
}
