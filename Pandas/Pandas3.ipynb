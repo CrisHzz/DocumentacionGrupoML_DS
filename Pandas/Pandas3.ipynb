{
 "cells": [
  {
   "cell_type": "markdown",
   "metadata": {},
   "source": [
    "# Series en pandas\n",
    "Las series en pandas son estructuras de datos unidimensionales que pueden almacenar valores de cualquier tipo, como enteros, cadenas, flotantes u objetos de Python. Cada valor en una serie tiene una etiqueta asociada, llamada índice, que puede ser numérica, textual o de otro tipo. El índice permite acceder, modificar o filtrar los valores de la serie de forma fácil y eficiente. Las series en pandas son similares a las columnas en una hoja de cálculo de Excel, o a los arreglos en NumPy, pero con la ventaja de tener etiquetas personalizadas\n"
   ]
  },
  {
   "cell_type": "code",
   "execution_count": 88,
   "metadata": {},
   "outputs": [
    {
     "name": "stdout",
     "output_type": "stream",
     "text": [
      "0    4.5\n",
      "1    4.2\n",
      "2    3.2\n",
      "3    8.5\n",
      "dtype: float64\n"
     ]
    }
   ],
   "source": [
    "#Creacion de una series.\n",
    "import pandas as pd\n",
    "\n",
    "numeros=pd.Series([4.5,4.2,3.2,8.5])\n",
    "\n",
    "print(numeros)\n",
    "\n",
    "#Retorna una clave para acceder al valor indicado anteriormente de la serie\n",
    "\n"
   ]
  },
  {
   "cell_type": "code",
   "execution_count": 89,
   "metadata": {},
   "outputs": [
    {
     "name": "stdout",
     "output_type": "stream",
     "text": [
      "[4.5 4.2 3.2 8.5]\n",
      "RangeIndex(start=0, stop=4, step=1)\n"
     ]
    }
   ],
   "source": [
    "print(numeros.values) #Me muestra todos los datos del serie\n",
    "\n",
    "print(numeros.index) #Muestra el orden de los indices"
   ]
  },
  {
   "cell_type": "code",
   "execution_count": 90,
   "metadata": {},
   "outputs": [
    {
     "name": "stdout",
     "output_type": "stream",
     "text": [
      "Neider        1.0\n",
      "Arenas        2.1\n",
      "Daniel        2.5\n",
      "Miguel        4.0\n",
      "Cristopher    4.3\n",
      "dtype: float64\n"
     ]
    }
   ],
   "source": [
    "notas=pd.Series([4.3,2.5,1.0,4.0,2.1],index=[\"Cristopher\",\"Daniel\",\"Neider\",\"Miguel\",\"Arenas\"])\n",
    "\n",
    "print(notas.sort_values(ascending=True)) #Crear una serie y asignar etiquetas para luego darles un orden\n",
    "\n",
    "#Primero van los valores y despues las claves"
   ]
  },
  {
   "cell_type": "code",
   "execution_count": 91,
   "metadata": {},
   "outputs": [
    {
     "data": {
      "text/plain": [
       "np.float64(1.0)"
      ]
     },
     "execution_count": 91,
     "metadata": {},
     "output_type": "execute_result"
    }
   ],
   "source": [
    "notas[\"Neider\"] #Visualizacion de valores por indices"
   ]
  },
  {
   "cell_type": "code",
   "execution_count": 92,
   "metadata": {},
   "outputs": [
    {
     "data": {
      "text/plain": [
       "Neider    1.0\n",
       "Daniel    2.5\n",
       "Miguel    4.0\n",
       "dtype: float64"
      ]
     },
     "execution_count": 92,
     "metadata": {},
     "output_type": "execute_result"
    }
   ],
   "source": [
    "notas[[\"Neider\",\"Daniel\",\"Miguel\"]] #Visualizacion de multiples"
   ]
  },
  {
   "cell_type": "code",
   "execution_count": 93,
   "metadata": {},
   "outputs": [
    {
     "data": {
      "text/plain": [
       "Cristopher    4.3\n",
       "Miguel        4.0\n",
       "dtype: float64"
      ]
     },
     "execution_count": 93,
     "metadata": {},
     "output_type": "execute_result"
    }
   ],
   "source": [
    "notas[notas>=3.0] #Visualizacion con condiconales"
   ]
  },
  {
   "cell_type": "code",
   "execution_count": 94,
   "metadata": {},
   "outputs": [
    {
     "data": {
      "text/plain": [
       "Cristopher    6.3\n",
       "Daniel        4.5\n",
       "Neider        3.0\n",
       "Miguel        6.0\n",
       "Arenas        4.1\n",
       "dtype: float64"
      ]
     },
     "execution_count": 94,
     "metadata": {},
     "output_type": "execute_result"
    }
   ],
   "source": [
    "#Puedo usar operaciones con los elementos de las series con escalares\n",
    "notas+2"
   ]
  },
  {
   "cell_type": "code",
   "execution_count": 95,
   "metadata": {},
   "outputs": [
    {
     "data": {
      "text/plain": [
       "Bello        533973\n",
       "Medellin    2600000\n",
       "Envigado     232854\n",
       "Sabaneta      43357\n",
       "dtype: int64"
      ]
     },
     "execution_count": 95,
     "metadata": {},
     "output_type": "execute_result"
    }
   ],
   "source": [
    "#Transformar diccionario a serie de pandas\n",
    "\n",
    "poblacion={\"Bello\":533973,\"Medellin\":2600000,\"Envigado\":232854,\"Sabaneta\":43357}\n",
    "\n",
    "serie_poblacion=pd.Series(poblacion)\n",
    "serie_poblacion"
   ]
  },
  {
   "cell_type": "code",
   "execution_count": 96,
   "metadata": {},
   "outputs": [
    {
     "data": {
      "text/plain": [
       "Bello       False\n",
       "Medellin    False\n",
       "Envigado    False\n",
       "Sabaneta    False\n",
       "dtype: bool"
      ]
     },
     "execution_count": 96,
     "metadata": {},
     "output_type": "execute_result"
    }
   ],
   "source": [
    "serie_poblacion.isnull() #Me dice si algun valor de la serie tiene un valor nullo\n",
    "\n"
   ]
  },
  {
   "cell_type": "code",
   "execution_count": 97,
   "metadata": {},
   "outputs": [
    {
     "data": {
      "text/plain": [
       "Bello       True\n",
       "Medellin    True\n",
       "Envigado    True\n",
       "Sabaneta    True\n",
       "dtype: bool"
      ]
     },
     "execution_count": 97,
     "metadata": {},
     "output_type": "execute_result"
    }
   ],
   "source": [
    "\n",
    "serie_poblacion.notnull() #Lo opuesto verifica si es nulo cada objeto"
   ]
  },
  {
   "cell_type": "code",
   "execution_count": 98,
   "metadata": {},
   "outputs": [
    {
     "data": {
      "text/plain": [
       "Municipios del valle de aburra\n",
       "Bello        533973\n",
       "Medellin    2600000\n",
       "Envigado     232854\n",
       "Sabaneta      43357\n",
       "Name: Poblacion de los municipios, dtype: int64"
      ]
     },
     "execution_count": 98,
     "metadata": {},
     "output_type": "execute_result"
    }
   ],
   "source": [
    "#Puedo sumar 2 series entre si siempre y cuando tengan las mismas claves \n",
    "comidas=pd.Series([5,5,5,5],index=[\"Bello\",\"Medellin\",\"Envigado\",\"Sabaneta\"])\n",
    "\n",
    "serie_poblacion+comidas\n",
    "\n",
    "serie_poblacion.index.name=\"Municipios del valle de aburra\" #Titulo de arriba\n",
    "\n",
    "serie_poblacion.name=\"Poblacion de los municipios\"\n",
    "\n",
    "serie_poblacion\n"
   ]
  },
  {
   "cell_type": "code",
   "execution_count": 99,
   "metadata": {},
   "outputs": [
    {
     "data": {
      "text/plain": [
       "Bello        533973\n",
       "Medellin    2600000\n",
       "Envigado     232854\n",
       "Sabaneta      43357\n",
       "Rionegro     146800\n",
       "Palmira      360000\n",
       "dtype: int64"
      ]
     },
     "execution_count": 99,
     "metadata": {},
     "output_type": "execute_result"
    }
   ],
   "source": [
    "serie_poblacion = pd.concat([serie_poblacion, pd.Series([146800], index=['Rionegro'])])\n",
    "\n",
    "serie_poblacion=pd.concat([serie_poblacion,pd.Series([360000],index=['Palmira'])])\n",
    "\n",
    "serie_poblacion"
   ]
  },
  {
   "cell_type": "code",
   "execution_count": 100,
   "metadata": {},
   "outputs": [
    {
     "data": {
      "text/plain": [
       "Bello        533973\n",
       "Medellin    2600000\n",
       "Envigado     232854\n",
       "Sabaneta      43357\n",
       "Rionegro     146800\n",
       "dtype: int64"
      ]
     },
     "execution_count": 100,
     "metadata": {},
     "output_type": "execute_result"
    }
   ],
   "source": [
    "serie_poblacion.drop(index=['Palmira'])"
   ]
  }
 ],
 "metadata": {
  "kernelspec": {
   "display_name": "Python 3",
   "language": "python",
   "name": "python3"
  },
  "language_info": {
   "codemirror_mode": {
    "name": "ipython",
    "version": 3
   },
   "file_extension": ".py",
   "mimetype": "text/x-python",
   "name": "python",
   "nbconvert_exporter": "python",
   "pygments_lexer": "ipython3",
   "version": "3.11.4"
  }
 },
 "nbformat": 4,
 "nbformat_minor": 2
}
